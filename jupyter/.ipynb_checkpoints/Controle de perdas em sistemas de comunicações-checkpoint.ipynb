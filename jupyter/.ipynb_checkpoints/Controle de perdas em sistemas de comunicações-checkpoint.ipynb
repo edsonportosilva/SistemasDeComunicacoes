{
 "cells": [
  {
   "cell_type": "markdown",
   "metadata": {
    "toc": true
   },
   "source": [
    "<h1>Table of Contents<span class=\"tocSkip\"></span></h1>\n",
    "<div class=\"toc\"><ul class=\"toc-item\"><li><span><a href=\"#Perdas-em-linhas-de-transmissão\" data-toc-modified-id=\"Perdas-em-linhas-de-transmissão-1\"><span class=\"toc-item-num\">1&nbsp;&nbsp;</span>Perdas em linhas de transmissão</a></span><ul class=\"toc-item\"><li><span><a href=\"#Impedância-característica\" data-toc-modified-id=\"Impedância-característica-1.1\"><span class=\"toc-item-num\">1.1&nbsp;&nbsp;</span>Impedância característica</a></span></li><li><span><a href=\"#Coeficiente-de-atenuação-em-$\\mathrm{dB}/\\text{unidade-de-distância}$\" data-toc-modified-id=\"Coeficiente-de-atenuação-em-$\\mathrm{dB}/\\text{unidade-de-distância}$-1.2\"><span class=\"toc-item-num\">1.2&nbsp;&nbsp;</span>Coeficiente de atenuação em $\\mathrm{dB}/\\text{unidade de distância}$</a></span></li></ul></li><li><span><a href=\"#O-enlace-sem-fio-simplificado\" data-toc-modified-id=\"O-enlace-sem-fio-simplificado-2\"><span class=\"toc-item-num\">2&nbsp;&nbsp;</span>O enlace sem fio simplificado</a></span><ul class=\"toc-item\"><li><span><a href=\"#Fórmula-de-Friis\" data-toc-modified-id=\"Fórmula-de-Friis-2.1\"><span class=\"toc-item-num\">2.1&nbsp;&nbsp;</span>Fórmula de Friis</a></span></li></ul></li><li><span><a href=\"#Amplificação-de-sinais\" data-toc-modified-id=\"Amplificação-de-sinais-3\"><span class=\"toc-item-num\">3&nbsp;&nbsp;</span>Amplificação de sinais</a></span><ul class=\"toc-item\"><li><span><a href=\"#Temperatura-de-ruído-equivalente-$T_e$\" data-toc-modified-id=\"Temperatura-de-ruído-equivalente-$T_e$-3.1\"><span class=\"toc-item-num\">3.1&nbsp;&nbsp;</span>Temperatura de ruído equivalente $T_e$</a></span></li><li><span><a href=\"#Figura-de-ruído-$F$\" data-toc-modified-id=\"Figura-de-ruído-$F$-3.2\"><span class=\"toc-item-num\">3.2&nbsp;&nbsp;</span>Figura de ruído $F$</a></span></li><li><span><a href=\"#Figura-de-ruído-de-uma-cascata-de-amplificadores\" data-toc-modified-id=\"Figura-de-ruído-de-uma-cascata-de-amplificadores-3.3\"><span class=\"toc-item-num\">3.3&nbsp;&nbsp;</span>Figura de ruído de uma cascata de amplificadores</a></span></li></ul></li><li><span><a href=\"#Referências\" data-toc-modified-id=\"Referências-4\"><span class=\"toc-item-num\">4&nbsp;&nbsp;</span>Referências</a></span></li></ul></div>"
   ]
  },
  {
   "cell_type": "code",
   "execution_count": 12,
   "metadata": {},
   "outputs": [
    {
     "data": {
      "text/html": [
       "\n",
       "<style>\n",
       ".output_png {\n",
       "    display: table-cell;\n",
       "    text-align: center;\n",
       "    vertical-align: middle;\n",
       "}\n",
       "</style>\n"
      ],
      "text/plain": [
       "<IPython.core.display.HTML object>"
      ]
     },
     "execution_count": 12,
     "metadata": {},
     "output_type": "execute_result"
    }
   ],
   "source": [
    "from IPython.core.display import HTML\n",
    "HTML(\"\"\"\n",
    "<style>\n",
    ".output_png {\n",
    "    display: table-cell;\n",
    "    text-align: center;\n",
    "    vertical-align: middle;\n",
    "}\n",
    "</style>\n",
    "\"\"\")"
   ]
  },
  {
   "cell_type": "markdown",
   "metadata": {},
   "source": [
    "# Controle de perdas em enlaces de comunicações"
   ]
  },
  {
   "cell_type": "markdown",
   "metadata": {},
   "source": [
    "No projeto de enlaces de comunicações, faz-se necessário uma análise das características de atenuação de sinal quando este e transportado pelo canal. Diversos fenômenos eletromagnéticos podem causar atenuação do sinal transmitido. De modo geral, todo receptor necessita de uma potência mínima de sinal recebido para que às métricas de qualidade da comunicação sejam garantidas. Portanto, como as perdas de potência estão diretamente relacionadas à distância percorrida pelo sinal, estas acabam por limitar o alcance da transmissão. Por outro lado, perdas de potência podem ser parcial ou totalmente compensadas pelo uso de elementos amplificadores posicionados entre transmissor e receptor.\n",
    "\n",
    "O projeto de um sistema de comunicações exige, portanto, que haja um balanço entre a potência transmitida, as perdas no canal e a amplificação presente, de forma a garantir que a potência recebida pelo receptor esteja sempre acima do valor mínimo necessário para garantir o seu funcionamento padrão."
   ]
  },
  {
   "cell_type": "markdown",
   "metadata": {},
   "source": [
    "## Perdas em linhas de transmissão\n",
    "\n",
    "A teoria de linhas de transmissão é uma abordagem útil para a modelagem de pares de fios metálicos utilizados em sistemas de comunicações elétricos cabeados. A partir do conceito de impedância característica da linha, pode-se determinar como um determinado componente de frequência do sinal será atenuado durante à propagação. \n",
    "\n",
    "### Impedância característica\n",
    "\n",
    "A impedância característica $Z_{0}$ de uma linha de transmissão é dada por [1]\n",
    "\n",
    "$$\n",
    "\\begin{equation}\\label{eq1}\n",
    "Z_{0}(f)=\\sqrt{\\frac{R+j 2\\pi f L}{G+j 2\\pi f C}},\n",
    "\\end{equation}\n",
    "$$\n",
    "\n",
    "em que $R$, $L$, $C$ e $G$ são os parâmetros de resistência, indutância, capacitância e condutância do dielétrico por unidade de comprimento, respectivamente. Estes parâmetros são dependentes da frequência do sinal, da geometria e condutor e do dielétrico. Em particular, o parâmetro de resistência $R$ é proporcional a $\\sqrt{f}$ devido ao efeito pelicular em condutores.\n",
    "\n",
    "O efeito da propagação de uma onda por uma linha de transmissão de impedância característica dada por (\\ref{eq1}) pode ser caracterizado pela constante de propagação $\\gamma(f)$, definida como\n",
    "\n",
    "$$\n",
    "\\begin{align}\n",
    "\\gamma(f) &=\\sqrt{(R+j 2\\pi f L)(G+j 2\\pi f C)}\\nonumber\\\\\n",
    " &=\\alpha(f) + j\\beta(f), \\label{eq2}\n",
    "\\end{align}\n",
    "$$\n",
    "\n",
    "em que $\\alpha(f)=\\Re \\left[\\gamma(f)\\right]$ e $\\beta(f)=\\Im \\left[\\gamma(f)\\right]$.\n",
    "\n",
    "A tensão $v(x, t)$ medida a uma distância $x$ do início da linha será dada por\n",
    "\n",
    "$$\n",
    "\\begin{align}\n",
    "v(x, t) &= \\Re\\left[V(j 2\\pi f) e^{-\\gamma(f) x} e^{j 2\\pi f t}\\right]\\nonumber\\\\\n",
    "        &= \\Re\\left[V(j 2\\pi f) e^{-\\alpha(f) x} e^{-j\\beta(f) x} e^{j 2\\pi f t}\\right]\\nonumber\\\\\n",
    "        &= e^{-\\alpha(f) x} \\Re\\left[V(j 2\\pi f) e^{-j\\beta(f) x}e^{j2\\pi ft}\\right]\\label{eq3}\n",
    "\\end{align}\n",
    "$$\n",
    "\n",
    "em que $V(j 2\\pi f)$ é o fasor na entrada da linha, $e^{-\\alpha(f) x}$ é um fator de atenuação e $e^{-j\\beta(f) x}$ corresponde a um deslocamento de fase associado à velocidade de propagação da onda, dada por $v = \\frac{2\\pi f}{\\beta(f)}$\n",
    "\n",
    "### Coeficiente de atenuação em $\\mathrm{dB}/\\text{unidade de distância}$\n",
    "Assumindo que o comprimento $x$ é medido em metros, é conveniente expressar a perda de potência $L$ ao longo do cabo em $\\mathrm{dB/m}$, de forma que \n",
    "\n",
    "$$\n",
    "\\begin{align}\n",
    "L_{\\mathrm{dB}} &=  10 \\log _{10}P_{0} - 10 \\log _{10}P_{x} \\nonumber\\\\\n",
    "       &= 10 \\log _{10}\\left[P_{0}/P_{x}\\right] \\nonumber\\\\\n",
    "       &= 20 \\log _{10} e^{\\alpha(f) x} \\nonumber\\\\\n",
    "       &= 20 \\alpha(f) x \\log _{10} e \\nonumber\\\\\n",
    "       &= \\alpha_{\\mathrm{dB/m}}(f) x\\label{eq4},\n",
    "\\end{align}\n",
    "$$\n",
    "\n",
    "em que $\\alpha_{\\mathrm{dB/m}}(f) = \\alpha(f) 20\\log _{10} e\\approx 8.6859 \\alpha(f)$.\n",
    "\n",
    "No caso ideal de uma linha de transmissão sem perdas, $R=0$ e $G=0$, de modo que $\\gamma(f) =j2\\pi f \\sqrt{L/C}$.\n",
    "\n",
    "**Exemplo:**"
   ]
  },
  {
   "cell_type": "code",
   "execution_count": 13,
   "metadata": {},
   "outputs": [],
   "source": [
    "import numpy as np\n",
    "import matplotlib.pyplot as plt"
   ]
  },
  {
   "cell_type": "code",
   "execution_count": 14,
   "metadata": {},
   "outputs": [],
   "source": [
    "# parâmetros da linha\n",
    "\n",
    "C = 0.05e-6 # F/km\n",
    "L = 0.6e-3  # H/km\n",
    "R = 107     # Ω/km\n",
    "G = 0       # 1/(Ω.km)"
   ]
  },
  {
   "cell_type": "code",
   "execution_count": 15,
   "metadata": {},
   "outputs": [
    {
     "name": "stdout",
     "output_type": "stream",
     "text": [
      "Z0 = 155.10-109.80j Ω\n",
      "γ = 0.34+0.49j km^-1\n",
      "α = 3.00 dB/km\n"
     ]
    }
   ],
   "source": [
    "π = np.pi\n",
    "\n",
    "f = 10e3 # frequência do sinal\n",
    "\n",
    "Z0 = np.sqrt((R + 1j*2*π*f*L)/(G + 1j*2*π*f*C)) # impedância característica\n",
    "\n",
    "γ  = np.sqrt((R + 1j*2*π*f*L)*(G + 1j*2*π*f*C)) # constante de propagação\n",
    "\n",
    "α = γ.real*20*np.log10(np.exp(1)) # atenuação em dB/km\n",
    "\n",
    "print('Z0 = {:.2f} Ω'.format(Z0))\n",
    "print('γ = {:.2f} km^-1'.format(γ))\n",
    "print('α = %.2f dB/km'%(α))"
   ]
  },
  {
   "cell_type": "code",
   "execution_count": 16,
   "metadata": {},
   "outputs": [
    {
     "data": {
      "image/png": "[encoded data removed]",
      "text/plain": [
       "<Figure size 432x288 with 1 Axes>"
      ]
     },
     "metadata": {
      "needs_background": "light"
     },
     "output_type": "display_data"
    },
    {
     "data": {
      "image/png": "[encoded data removed]",
      "text/plain": [
       "<Figure size 432x288 with 1 Axes>"
      ]
     },
     "metadata": {
      "needs_background": "light"
     },
     "output_type": "display_data"
    }
   ],
   "source": [
    "C = 0.05e-6 # F/km\n",
    "L = 0.6e-3  # H/km\n",
    "R = 107     # Ω/km\n",
    "G = 0.000  # 1/(Ω.km)\n",
    "\n",
    "f = np.arange(1,10e3+1,10)\n",
    "\n",
    "Z0 = np.sqrt((R + 1j*2*π*f*L)/(G + 1j*2*π*f*C))\n",
    "γ  = np.sqrt((R + 1j*2*π*f*L)*(G + 1j*2*π*f*C))\n",
    "\n",
    "α = γ.real*20*np.log10(np.exp(1))\n",
    "\n",
    "\n",
    "plt.figure()\n",
    "plt.plot(f, 10*α, '-', label = '10 km')\n",
    "plt.plot(f, 30*α, '--', label = '30 km')\n",
    "plt.xlabel('frequência (Hz)')\n",
    "plt.ylabel('atenuação (dB/km)')\n",
    "plt.grid()\n",
    "plt.xlim(min(f), max(f));\n",
    "plt.legend();\n",
    "\n",
    "plt.figure()\n",
    "plt.plot(f, 10/(2*π*f/γ.imag)*1e3, '-', label = '10 km')\n",
    "plt.plot(f, 30/(2*π*f/γ.imag)*1e3, '--', label = '30 km')\n",
    "plt.xlabel('frequência (Hz)')\n",
    "plt.ylabel('tempo (ms)')\n",
    "plt.grid()\n",
    "plt.xlim(min(f), max(f))\n",
    "plt.ylim(0, 1.5)\n",
    "plt.legend();"
   ]
  },
  {
   "cell_type": "markdown",
   "metadata": {},
   "source": [
    "## O enlace sem fio simplificado\n",
    "\n",
    "O canal de propagação sem fio mais simples é aquele que contempla um único percurso de propagação do sinal entre o transmissor e o receptor, sem que hajam outros fenômenos ondulatórios, tais como reflexão ou dispersão, afetando o sinal que alcança pelo receptor. Este tipo de enlace é comumente conhecido como enlace de visada direta.\n",
    "\n",
    "Uma vez transmitida, as ondas de rádio propagam-se pelo espaço livre, espalhando energia em diversas direções. Na análise do balanço de potência nesses sistemas é útil assumir-se um modelo ideal de antena transmissora omnidirecional em toda a energia irradiada parte de apenas um ponto. Esse modelo simplificado assume que a antena não tem direção preferencial, irradiando uniformemente em todas as direções. Nesse caso, seja $P_t$ a potência emitida pela antena em $W$, então a densidade de potência na distância $d$ metros é dada por\n",
    "\n",
    "$$\n",
    "\\begin{equation}\\label{eq5}\n",
    "\\frac{P_{t}}{4 \\pi d^{2}} \\quad \\mathrm{~W}/\\mathrm{m}^{2}.\n",
    "\\end{equation}\n",
    "$$\n",
    "\n",
    "### Fórmula de Friis\n",
    "\n",
    "Um modelo ideal mais elaborado assume que as antenas do transmissor e do recepor possuem ganhos $G$ propocionais às suas respectivas àreas $A$\n",
    "\n",
    "$$\n",
    "\\begin{equation}\\label{eq6}\n",
    "G \\approx \\frac{4 \\pi A}{\\lambda^{2}}\n",
    "\\end{equation}\n",
    "$$\n",
    "\n",
    "em que $\\lambda$ é o comprimento de onda da radiação. \n",
    "\n",
    "Logo, a potência coletada pela antena receptora de área $A_r$ será\n",
    "\n",
    "$$\n",
    "\\begin{equation}\\label{eq7}\n",
    "P_{r}=\\frac{\\left(P_{t} G_{t}\\right)A_{r}}{4 \\pi d^{2}}\n",
    "\\end{equation}\n",
    "$$\n",
    "\n",
    "e como $A_r = \\frac{G_r\\lambda^{2}}{4 \\pi}$, temos\n",
    "\n",
    "$$\n",
    "\\begin{align}\n",
    "P_{r} &= P_{t}G_{t} G_{r}\\left(\\frac{\\lambda}{4 \\pi d}\\right)^{2}\\nonumber\\\\\n",
    "      &= P_{t}G_{t} G_{r}L_p(d,\\lambda)\\label{eq8}\n",
    "\\end{align}\n",
    "$$\n",
    "\n",
    "em que $P_r$ é a potência recebida, $G_t$ é o ganho da antena transmissora, $G_r$ é o ganho da antena receptora. A equação (\\ref{eq8}) é conhecida como a fórmula de Friis para o cálculo da potência transferida entre duas antenas ideais separadas por uma distância $d$. \n",
    "\n",
    "O fator $L_p(d,\\lambda)$ é denominado de perda no espaço livre\n",
    "\n",
    "$$\n",
    "\\begin{align}\n",
    "L_p(d,\\lambda) &= \\left(\\frac{\\lambda}{4 \\pi d}\\right)^{2}\\nonumber\\\\\n",
    "               &= \\left(\\frac{c}{4 \\pi d f}\\right)^{2}\\label{eq9}\n",
    "\\end{align}\n",
    "$$"
   ]
  },
  {
   "cell_type": "code",
   "execution_count": 17,
   "metadata": {},
   "outputs": [
    {
     "data": {
      "image/png": "[encoded data removed]",
      "text/plain": [
       "<Figure size 432x288 with 1 Axes>"
      ]
     },
     "metadata": {
      "needs_background": "light"
     },
     "output_type": "display_data"
    }
   ],
   "source": [
    "f = np.arange(100e6, 900e6+1,1e6) # Hz\n",
    "d1 = 100   # m\n",
    "d2 = 200   # m\n",
    "c  = 3e8   # m/s\n",
    "\n",
    "Lp1 = (c/(4*π*d1*f))**2\n",
    "Lp2 = (c/(4*π*d2*f))**2\n",
    "\n",
    "plt.figure()\n",
    "plt.plot(f, 10*np.log10(Lp1),'-', label = '100 m')\n",
    "plt.plot(f, 10*np.log10(Lp2),'-', label = '200 m')\n",
    "plt.xlabel('frequência (Hz)')\n",
    "plt.ylabel('$L_p$ (dB)')\n",
    "plt.grid()\n",
    "plt.xlim(min(f), max(f))\n",
    "plt.legend();"
   ]
  },
  {
   "cell_type": "markdown",
   "metadata": {},
   "source": [
    "## Amplificação de sinais\n",
    "\n",
    "Considere um amplificador linear com resposta em frequência $H(f)$. Assumindo que um ruído branco com densidade espectral de potência $S_{n}(f) = \\frac{N_{0}}{2}\\;\\mathrm{W/Hz}$ está presente na entrada do amplificador, a potência de ruído $P_{n_o}$ na saída do mesmo pode ser expressa por\n",
    "\n",
    "$$\n",
    "\\begin{equation}\n",
    "P_{n_o}=\\int_{-\\infty}^{\\infty} S_{n}(f)|H(f)|^{2} df=\\frac{N_{0}}{2} \\int_{-\\infty}^{\\infty}|H(f)|^{2} d f.\n",
    "\\end{equation}\n",
    "$$\n",
    "\n",
    "Seja $G$ o ganho máximo de potência na faixa de passagem de $H(f)$, podemos definir a *banda de ruído equivalente* ($B_{\\mathrm{neq}}$) como sendo\n",
    "\n",
    "$$\n",
    "\\begin{equation}\n",
    "B_{\\mathrm{neq}}=\\frac{1}{2G} \\int_{-\\infty}^{\\infty}|H(f)|^{2} d f\n",
    "\\end{equation}\n",
    "$$\n",
    "\n",
    "em que $G = |H(f)|_{\\max}^{2}$. \n",
    "\n",
    "Observa-se que a potência de ruído na saída do amplificador agora pode ser escrita como\n",
    "\n",
    "$$\n",
    "\\begin{equation}\n",
    "P_{n_o} = G N_{0} B_{\\mathrm{neq}}.\n",
    "\\end{equation}\n",
    "$$\n",
    "\n",
    "Admitindo que o ruído térmico é a única fonte de ruído na entrada do amplificador e que os circuitos do amplificador acrescentam uma contribuição de ruído extra $P_{n_i}$, temos\n",
    "$$\n",
    "\\begin{equation}\n",
    "\\begin{aligned}\n",
    "P_{n_o} &= G N_{0} B_{\\mathrm{neq}}+P_{n_i} \\\\\n",
    "&= G k_B T B_{\\mathrm{neq}}+P_{n_i},\n",
    "\\end{aligned}\n",
    "\\end{equation}\n",
    "$$\n",
    "\n",
    "em que $N_{0}=k_B T$, com $T$ sendo a temperatura em $K$.\n",
    "\n",
    "### Temperatura de ruído equivalente $T_e$\n",
    "\n",
    "$$\n",
    "\\begin{equation}\n",
    "P_{n_o}=G k_B B_{\\mathrm{neq}}\\left(T+\\frac{P_{n_i}}{G k_B B_{\\mathrm{neq}}}\\right)\n",
    "\\end{equation}\n",
    "$$\n",
    "\n",
    "$$\n",
    "\\begin{equation}\n",
    "T_{e}=\\frac{P_{n_i}}{G k_B B_{\\mathrm{neq}}}\n",
    "\\end{equation}\n",
    "$$\n",
    "\n",
    "\n",
    "### Figura de ruído $F$\n",
    "\n",
    "A figura de ruído $F$ de um amplificador é definida como sendo a razão entre a $\\mathrm{SNR}_i$ do sinal na entrada e a $\\mathrm{SNR}_o$ do sinal na saída do dispositivo,\n",
    "\n",
    "$$\n",
    "\\begin{equation}\n",
    "F = \\frac{\\mathrm{SNR}_i}{\\mathrm{SNR}_o}.\n",
    "\\end{equation}\n",
    "$$\n",
    "Quanto maior a figura de ruído, maior será a degradação da $\\mathrm{SNR}$ do sinal no processo de amplificação.\n",
    "\n",
    "Para o modelo de amplificador considerado anteriormente, podemos encontrar uma relação entre a figura de ruído e a temperatura de ruído equivalente. \n",
    "\n",
    "Sabe-se que,\n",
    "\n",
    "$$\n",
    "\\begin{equation}\n",
    "P_{n_o}= G k_B B_{\\mathrm{neq}}\\left(T+T_{e}\\right)\n",
    "\\end{equation}\n",
    "$$\n",
    "\n",
    "Desse modo, as seguintes relações podem ser derivadas:\n",
    "$$\n",
    "\\begin{equation}\n",
    "\\begin{aligned}\n",
    "\\mathrm{SNR}_{o} &=\\frac{P_{s_o}}{P_{n_o}}=\\frac{G P_{s_i}}{G k_BT B_{\\mathrm{neq}}\\left(1+T_{e}/T\\right)} \\\\\n",
    "&=\\frac{P_{s_i}}{N_{0} B_{\\mathrm{neq}}\\left(1+T_{e} / T\\right)} \\\\\n",
    "&=\\frac{1}{1+T_{e} / T}\\mathrm{SNR}_{i}.\n",
    "\\end{aligned}\n",
    "\\end{equation}\n",
    "$$\n",
    "\n",
    "Portanto,\n",
    "$$\n",
    "\\begin{equation}\n",
    "F=\\left(1+\\frac{T_{e}}{T}\\right).\n",
    "\\end{equation}\n",
    "$$\n",
    "\n",
    "Por fim, podemos obter a relação entre as $\\mathrm{SNRs}$ em $dB$, notando que\n",
    "\n",
    "$$\n",
    "\\begin{equation}\n",
    "\\mathrm{SNR}_{o}=\\frac{1}{F}\\mathrm{SNR}_{i}\n",
    "\\end{equation}\n",
    "$$\n",
    "\n",
    "e\n",
    "\n",
    "$$\n",
    "\\begin{aligned}\n",
    "10 \\log \\left(\\mathrm{SNR}_{o}\\right) &=-10 \\log F+10 \\log \\left(\\mathrm{SNR}_{i}\\right)\\\\\n",
    "\\mathrm{SNR}_{o[dB]} &=\\mathrm{SNR}_{i[dB]}-F_{[dB]}.\n",
    "\\end{aligned}\n",
    "$$\n",
    "\n",
    "### Figura de ruído de uma cascata de amplificadores\n",
    "\n",
    "<img src=\"./figuras/cascataAmplificadores.png\" width=\"750\">\n",
    "\n",
    "$$\n",
    "\\begin{equation}\n",
    "P_{s}(k)=G_{1} G_{2} \\ldots G_{k} P_{s}\n",
    "\\end{equation}\n",
    "$$\n",
    "\n",
    "$$\n",
    "\\begin{equation}\n",
    "P_{n}(k)=G_{1} G_{2} \\cdots G_{k} P_{n_0} + P_{n_{i}}(1) G_{2} G_{3} \\cdots G_{k}+P_{n_{i}}(2) G_{3} G_{4} \\cdots G_{k}+P_{n_{i}}(k)\n",
    "\\end{equation}\n",
    "$$\n",
    "\n",
    "Temos que\n",
    "\n",
    "$$\n",
    "\\begin{aligned}\n",
    "P_{n_{i}}(1) &= G_{1} k_B B_{\\mathrm{neq}} T_{e_{1}},\\\\ P_{n_{i}}(2) &=G_{2} k_B B_{\\mathrm{neq}} T_{e_2}, \\\\ \\ldots \\\\ P_{n_i}(k)&=G_{k} k_B B_{\\mathrm{neq}} T_{e_k}\n",
    "\\end{aligned}\n",
    "$$\n",
    "\n",
    "A potência total de ruído $P_{n}(k)$ na saída da cascata será dada por \n",
    "\n",
    "$$\n",
    "\\begin{equation}\n",
    "P_{n}(k)=\\left(G_{1} G_{2} \\ldots G_{k}\\right) k_B B_{\\mathrm{neq}}T+\\left(G_{2} G_{3} \\cdots G_{k}\\right) G_{1} k_B B_{\\mathrm{neq}} T_{e_1}+\\left(G_{3} G_{4} \\cdots G_{k}\\right) G_{2} k_B B_{\\mathrm{neq}} T_{e_{2}} + \\cdots +G_{k} k_B B_{\\mathrm{neq}} T_{e_{k}} \n",
    "\\end{equation}\n",
    "$$\n",
    "\n",
    "$$\n",
    "\\begin{equation}\n",
    "P_{n}(k)=\\left(G_{1} G_{2} \\ldots G_{k} k_B T B_{\\mathrm{neq}}\\right)\\left[1+\\frac{T_{e_1}}{T}+\\frac{1}{G_{1}} \\left(\\frac{T_{e_{2}}}{T}\\right)+\\frac{1}{G_{1} G_{2}}\\left(\\frac{T_{e_{3}}}{T}\\right)+\\cdots+\\frac{1}{G_{1} G_{2} \\cdots G_{k-1}}\\left(\\frac{T_{e_k}}{T}\\right)\\right]\n",
    "\\end{equation}\n",
    "$$\n",
    "\n",
    "A $\\mathrm{SNR}_k$ na saída da cascata será dada por\n",
    "\n",
    "$$\n",
    "\\begin{equation}\n",
    "\\mathrm{SNR}_k=\\frac{G_{1} G_{2} \\cdots G_{k} P_{s}}{\\left(G_{1} G_{2} \\cdots G_{k} k_B T B_{\\mathrm{neq}}\\right)\\left[1+\\frac{T_{e_1}}{T}+\\frac{1}{G_{1}}\\left(\\frac{T_{e_2}}{T}\\right)+\\frac{1}{G_{1} G_{2}}\\left(\\frac{T_{e_{3}}}{T}\\right)+\\cdots+\\frac{1}{G_{1}G_{2}\\cdots G_{k-1}}\\left(\\frac{T_{e_k}}{T}\\right)\\right.}\n",
    "\\end{equation}\n",
    "$$\n",
    "\n",
    "$$\n",
    "\\begin{equation}\n",
    "\\mathrm{SNR}_k=\\frac{\\mathrm{SNR}_i}{\\left[1+\\frac{T_{e_1}}{T}+\\frac{1}{G_{1}}\\left(\\frac{T_{e_2}}{T}\\right)+\\frac{1}{G_{1} G_{2}}\\left(\\frac{T_{e_{3}}}{T}\\right)+\\cdots+\\frac{1}{G_{1}G_{2}\\cdots G_{k-1}}\\left(\\frac{T_{e_k}}{T}\\right)\\right]}\n",
    "\\end{equation}\n",
    "$$\n",
    "\n",
    "Logo, considerando que\n",
    "$$\n",
    "\\begin{equation}\n",
    "F_{k}=\\left(1+\\frac{T_{e_k}}{T}\\right) \\Rightarrow \\frac{T_{e_k}}{T}=F_{k}-1,\n",
    "\\end{equation}\n",
    "$$\n",
    "\n",
    "encontramos\n",
    "$$\n",
    "\\begin{equation}\n",
    "\\frac{\\mathrm{SNR}_{i}}{\\mathrm{SNR}_{k}}=\\left[F_{1}+\\frac{F_{2}-1}{G_{1}}+\\frac{F_{3}-1}{G_{1} G_{2}}+\\cdots+\\frac{F_{k}-1}{G_{1} G_{2} \\cdots G_{k-1}}\\right]=F_{\\mathrm{eq}}.\n",
    "\\end{equation}\n",
    "$$"
   ]
  },
  {
   "cell_type": "markdown",
   "metadata": {},
   "source": [
    "## Referências\n",
    "\n",
    "[1] W. H. Hayt, J. A. Buck, “Engineering electromagnetics,” McGraw-Hill, 2012."
   ]
  }
 ],
 "metadata": {
  "kernelspec": {
   "display_name": "Python 3",
   "language": "python",
   "name": "python3"
  },
  "language_info": {
   "codemirror_mode": {
    "name": "ipython",
    "version": 3
   },
   "file_extension": ".py",
   "mimetype": "text/x-python",
   "name": "python",
   "nbconvert_exporter": "python",
   "pygments_lexer": "ipython3",
   "version": "3.7.4"
  },
  "toc": {
   "base_numbering": 1,
   "nav_menu": {},
   "number_sections": true,
   "sideBar": true,
   "skip_h1_title": true,
   "title_cell": "Table of Contents",
   "title_sidebar": "Contents",
   "toc_cell": true,
   "toc_position": {},
   "toc_section_display": true,
   "toc_window_display": false
  },
  "varInspector": {
   "cols": {
    "lenName": 16,
    "lenType": 16,
    "lenVar": 40
   },
   "kernels_config": {
    "python": {
     "delete_cmd_postfix": "",
     "delete_cmd_prefix": "del ",
     "library": "var_list.py",
     "varRefreshCmd": "print(var_dic_list())"
    },
    "r": {
     "delete_cmd_postfix": ") ",
     "delete_cmd_prefix": "rm(",
     "library": "var_list.r",
     "varRefreshCmd": "cat(var_dic_list()) "
    }
   },
   "types_to_exclude": [
    "module",
    "function",
    "builtin_function_or_method",
    "instance",
    "_Feature"
   ],
   "window_display": false
  }
 },
 "nbformat": 4,
 "nbformat_minor": 2
}
