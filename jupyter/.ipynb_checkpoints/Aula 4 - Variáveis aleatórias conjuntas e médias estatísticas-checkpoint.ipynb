{
 "cells": [
  {
   "cell_type": "markdown",
   "metadata": {
    "toc": true
   },
   "source": [
    "<h1>Table of Contents<span class=\"tocSkip\"></span></h1>\n",
    "<div class=\"toc\"><ul class=\"toc-item\"><li><span><a href=\"#Variáveis-aleatórias-conjuntas\" data-toc-modified-id=\"Variáveis-aleatórias-conjuntas-1\"><span class=\"toc-item-num\">1&nbsp;&nbsp;</span>Variáveis aleatórias conjuntas</a></span></li><li><span><a href=\"#Variáveis-conjuntas-multidimensional:-caso-geral\" data-toc-modified-id=\"Variáveis-conjuntas-multidimensional:-caso-geral-2\"><span class=\"toc-item-num\">2&nbsp;&nbsp;</span>Variáveis conjuntas multidimensional: caso geral</a></span></li><li><span><a href=\"#Distribuição-gaussiana-multidimensional\" data-toc-modified-id=\"Distribuição-gaussiana-multidimensional-3\"><span class=\"toc-item-num\">3&nbsp;&nbsp;</span>Distribuição gaussiana multidimensional</a></span><ul class=\"toc-item\"><li><span><a href=\"#Funções-distribuição-de-probabilidade-condicionais\" data-toc-modified-id=\"Funções-distribuição-de-probabilidade-condicionais-3.1\"><span class=\"toc-item-num\">3.1&nbsp;&nbsp;</span>Funções distribuição de probabilidade condicionais</a></span></li><li><span><a href=\"#Independência-estatística\" data-toc-modified-id=\"Independência-estatística-3.2\"><span class=\"toc-item-num\">3.2&nbsp;&nbsp;</span>Independência estatística</a></span></li></ul></li><li><span><a href=\"#Médias-estatísticas\" data-toc-modified-id=\"Médias-estatísticas-4\"><span class=\"toc-item-num\">4&nbsp;&nbsp;</span>Médias estatísticas</a></span></li></ul></div>"
   ]
  },
  {
   "cell_type": "code",
   "execution_count": 1,
   "metadata": {},
   "outputs": [
    {
     "data": {
      "text/html": [
       "\n",
       "<style>\n",
       ".output_png {\n",
       "    display: table-cell;\n",
       "    text-align: center;\n",
       "    vertical-align: middle;\n",
       "}\n",
       "</style>\n"
      ],
      "text/plain": [
       "<IPython.core.display.HTML object>"
      ]
     },
     "execution_count": 1,
     "metadata": {},
     "output_type": "execute_result"
    }
   ],
   "source": [
    "import matplotlib.pyplot as plt\n",
    "from mpl_toolkits.mplot3d import Axes3D\n",
    "from matplotlib import cm\n",
    "\n",
    "import numpy as np\n",
    "from scipy.stats import *\n",
    "\n",
    "from IPython.core.display import HTML\n",
    "\n",
    "\n",
    "HTML(\"\"\"\n",
    "<style>\n",
    ".output_png {\n",
    "    display: table-cell;\n",
    "    text-align: center;\n",
    "    vertical-align: middle;\n",
    "}\n",
    "</style>\n",
    "\"\"\")"
   ]
  },
  {
   "cell_type": "markdown",
   "metadata": {},
   "source": [
    "## Variáveis aleatórias conjuntas\n",
    "\n",
    "Sejam duas v.a.s $X$ e $Y$, indicamos suas fda e fdp conjuntas por $F_{X,Y}(x,y)$ e $f_{X,Y}(x,y)$, em que\n",
    "\n",
    "$$F_{X, Y}(x, y)=P(X \\leq x, Y \\leq y)$$\n",
    "\n",
    "$$f_{X, Y}(x, y)=\\frac{\\partial^{2}}{\\partial x \\partial y} F_{X, Y}(x, y)$$\n",
    "\n",
    "\n",
    "**Propriedades:**\n",
    "\n",
    "1. $F_{X, Y}(x, y)=\\int_{-\\infty}^{x} \\int_{-\\infty}^{y} f_{X, Y}(u, v) d u d v$\n",
    "\n",
    "\n",
    "2. $F_{X}(x)=F_{X, Y}(x, \\infty)$\n",
    "\n",
    "\n",
    "3. $F_{Y}(y)=F_{X, Y}(\\infty, y)$\n",
    "\n",
    "\n",
    "4. $f_{X}(x)=\\int_{-\\infty}^{\\infty} f_{X, Y}(x, y) d y$\n",
    "\n",
    "\n",
    "5. $f_{Y}(y)=\\int_{-\\infty}^{\\infty} f_{X, Y}(x, y) d x$\n",
    "\n",
    "\n",
    "6. $\\int_{-\\infty}^{\\infty} \\int_{-\\infty}^{\\infty} f_{X, Y}(x, y) d x d y=1$\n",
    "\n",
    "\n",
    "7. $P((X, Y) \\in A)=\\iint_{(x, y) \\in A} f_{X, Y}(x, y) d x d y$ . \n",
    "\n",
    "\n",
    "## Variáveis conjuntas multidimensional: caso geral\n",
    "\n",
    "No caso geral, seja $\\mathbf{X}=\\left[X_{1}, \\ldots, X_{k}\\right]^T$ um vetor de $k$ v.a.s, a fda conjunta será definida como a função de $F_{\\mathbf{X}}: \\mathbb{R}^{k} \\mapsto[0,1]$ tal que\n",
    "\n",
    "$$\n",
    "F_{\\mathbf{X}}(\\mathbf{x})=\\mathrm{P}\\left(X_{1} \\leq x_{1}, \\ldots, X_{k} \\leq x_{k}\\right) = \\int_{-\\infty}^{x_{1}} \\int_{-\\infty}^{x_{2}} \\cdots \\int_{-\\infty}^{x_{k}} f_{\\mathbf{X}}\\left(u_{1}, u_{2}, \\ldots, u_{k}\\right) d u_{1} d u_{2} \\cdots d u_{k}\n",
    "$$\n",
    "\n",
    "em que $\\mathbf{x}=\\left[x_{1}, \\ldots, x_{k}\\right]^T$. \n",
    "\n",
    "A fdp multidimensional $f_{\\mathbf{X}}\\left(\\mathbf{x}\\right) = f_{\\mathbf{X}}\\left(x_{1}, x_{2}, \\ldots, x_{k}\\right)$ pode ser obtida a partir das derivadas parciais de $F_{\\mathbf{X}}(\\mathbf{x})$\n",
    "\n",
    "$$\n",
    "f_{\\mathbf{X}}\\left(x_{1}, x_{2}, \\ldots, x_{k}\\right)=\\frac{\\partial^{k}}{\\partial x_{1} \\partial x_{2} \\cdots \\partial x_{k}} F_{\\mathbf{X}}\\left(x_{1}, x_{2}, \\ldots, x_{k}\\right)\n",
    "$$"
   ]
  },
  {
   "cell_type": "markdown",
   "metadata": {},
   "source": [
    "## Distribuição gaussiana multidimensional\n",
    "\n",
    "Seja $\\mathbf{X}=\\left[X_{1}, \\ldots, X_{k}\\right]^T$ um vetor de $k$ v.a.s gaussianas, a pdf conjunta de $\\mathbf{X}$ é dada por\n",
    "\n",
    "$$\n",
    "f_\\mathbf{X}(\\mathbf{x})=f_\\mathbf{X}\\left(x_{1}, \\ldots, x_{k}\\right)=\\frac{\\exp \\left(-\\frac{1}{2}(\\mathbf{x}-\\boldsymbol{\\mu})^{\\mathrm{T}} \\mathbf{\\Sigma}^{-1}(\\mathbf{x}-\\boldsymbol{\\mu})\\right)}{\\sqrt{(2 \\pi)^{k}|\\mathbf{\\Sigma}|}}\n",
    "$$\n",
    "\n",
    "em que $\\mathbf{x}=\\left[x_{1}, \\ldots, x_{k}\\right]^T$, $\\boldsymbol{\\mu} = E[\\mathbf{X}]$ é o vetor de médias e $\\mathbf{\\Sigma} = E\\left[\\left(\\mathbf{X}-E[\\mathbf{X}]\\right)\\left(\\mathbf{X}-E[\\mathbf{X}]\\right)^T\\right]$ é a matriz de covariância.\n",
    "\n",
    "Para o caso bidimensional, considerando duas variáveis gaussianas $X$ e $Y$\n",
    "\n",
    "$$\\large\n",
    "f_{X,Y}(x, y)=\\frac{1}{2 \\pi \\sigma_{x} \\sigma_{y} \\sqrt{1-\\rho^{2}}} \\mathrm{e}^{-\\frac{1}{2\\left(1-\\rho^{2}\\right)}\\left[\\left(\\frac{x-\\mu_{x}}{\\sigma_{x}}\\right)^{2}-2 \\rho\\left(\\frac{x-\\mu_{x}}{\\sigma_{x}}\\right)\\left(\\frac{y-\\mu_{y}}{\\sigma_{y}}\\right)+\\left(\\frac{y-\\mu_{y}}{\\sigma_{y}}\\right)^{2}\\right]}\n",
    "$$\n",
    "\n",
    "em que $X\\sim\\mathcal{N}(\\mu_x, \\sigma_x^2)$, $Y\\sim\\mathcal{N}(\\mu_y, \\sigma_y^2)$ e \n",
    "\n",
    "$$\\boldsymbol{\\Sigma}=\\left[\\begin{array}{cc}\\sigma_{x}^{2} & \\rho \\sigma_{x} \\sigma_{y} \\\\ \\rho \\sigma_{x} \\sigma_{y} & \\sigma_{y}^{2}\\end{array}\\right]$$\n",
    "\n",
    "em que $\\rho$ é o coeficiente de correlação entre $X$ e $Y$.\n",
    "\n",
    "$$\\rho =\\frac{\\mathrm{E}[X Y]-\\mathrm{E}[X] \\mathrm{E}[Y]}{\\sqrt{\\mathrm{E}\\left[X^{2}\\right]-(\\mathrm{E}[X])^{2}} \\sqrt{\\mathrm{E}\\left[Y^{2}\\right]-(\\mathrm{E}[Y])^{2}}}$$"
   ]
  },
  {
   "cell_type": "code",
   "execution_count": 14,
   "metadata": {},
   "outputs": [
    {
     "data": {
      "image/png": "[encoded data removed]",
      "text/plain": [
       "<Figure size 360x360 with 1 Axes>"
      ]
     },
     "metadata": {
      "needs_background": "light"
     },
     "output_type": "display_data"
    },
    {
     "data": {
      "image/png": "[encoded data removed]",
      "text/plain": [
       "<Figure size 576x576 with 1 Axes>"
      ]
     },
     "metadata": {
      "needs_background": "light"
     },
     "output_type": "display_data"
    }
   ],
   "source": [
    "# parâmetros da distribuição\n",
    "μx = 0  # média de X\n",
    "μy = 0  # média de Y\n",
    "\n",
    "σx = 0.5  # desvio padrão de X\n",
    "σy = 0.5  # desvio padrão de Y\n",
    "ρ  = 0.9    # coeficiente de correlação entre X e Y\n",
    " \n",
    "μ = [μx, μy]                             # vetor de médias\n",
    "Σ = [[σx**2, ρ*σx*σy], [ρ*σx*σy, σy**2]] # matriz de covariância\n",
    "\n",
    "# Distribuição gaussiana bidimensional  \n",
    "rv = multivariate_normal(μ, Σ)\n",
    "\n",
    "σ_plot = max(σx,σy)\n",
    "x = np.arange(-3*σ_plot, 3*σ_plot, .01)\n",
    "y = np.arange(-3*σ_plot, 3*σ_plot, .01)\n",
    "\n",
    "x, y = np.meshgrid(x,y)\n",
    "pos = np.dstack((x, y))\n",
    "\n",
    "plt.figure(figsize=(5,5))\n",
    "plt.contourf(x, y, rv.pdf(pos));\n",
    "plt.xlabel('x')\n",
    "plt.ylabel('y')\n",
    "plt.gca().set_aspect(\"equal\");\n",
    "\n",
    "fig2 = plt.figure(figsize=(8,8))\n",
    "ax = fig2.gca(projection='3d')\n",
    "\n",
    "z = rv.pdf(pos)\n",
    "\n",
    "ax.plot_surface(x, y, z, cmap=cm.coolwarm, linewidth=1, antialiased=False,alpha=0.75)\n",
    "ax.set_xlabel('x')\n",
    "ax.set_ylabel('y')\n",
    "ax.set_zlabel('pdf')\n",
    "ax.view_init(elev=75, azim=90)\n",
    "plt.show()\n"
   ]
  },
  {
   "cell_type": "code",
   "execution_count": 15,
   "metadata": {},
   "outputs": [
    {
     "data": {
      "image/png": "[encoded data removed]",
      "text/plain": [
       "<Figure size 576x576 with 1 Axes>"
      ]
     },
     "metadata": {
      "needs_background": "light"
     },
     "output_type": "display_data"
    }
   ],
   "source": [
    "x = rv.rvs(1000000)\n",
    "\n",
    "plt.figure(figsize=(8,8))\n",
    "plt.gca().set_aspect(\"equal\");\n",
    "plt.hist2d(x[:,0], x[:,1], density=False, bins=100, label = 'hist(x,y)');\n",
    "plt.grid()\n",
    "plt.xlabel('x')\n",
    "plt.ylabel('y');\n",
    "plt.tight_layout()"
   ]
  },
  {
   "cell_type": "code",
   "execution_count": 10,
   "metadata": {},
   "outputs": [
    {
     "data": {
      "text/plain": [
       "array([-0.59427528, -0.16810304])"
      ]
     },
     "execution_count": 10,
     "metadata": {},
     "output_type": "execute_result"
    }
   ],
   "source": [
    "x[1,:]"
   ]
  },
  {
   "cell_type": "markdown",
   "metadata": {},
   "source": [
    "### Funções distribuição de probabilidade condicionais\n",
    "\n",
    "Sejam duas v.a.s $X$ e $Y$ com fda e fdp conjuntas dadas por $F_{X,Y}(x,y)$ e $f_{X,Y}(x,y)$, respectivamente. Suponha que desejamos determinar  $P(X \\leqslant x)$ dado que o evento $y-\\Delta y < Y \\leqslant y$ ocorreu.\n",
    "\n",
    "$$\n",
    "\\begin{equation}\n",
    "\\begin{aligned}\n",
    "P\\left(X \\leqslant x | y-\\Delta y < Y \\leqslant y\\right) &=\\frac{\\int_{-\\infty}^{x} \\int_{y-\\Delta y}^{y} f_{X,Y}\\left(u_{1}, u_{2}\\right) d u_{1} d u_{2}}{\\int_{y-\\Delta y}^{y} f_Y\\left(u_{2}\\right) d u_{2}} \\\\\n",
    "&=\\frac{F\\left(x, y\\right)-F\\left(x, y-\\Delta y\\right)}{F\\left(y\\right)-F\\left(y-\\Delta y\\right)}\n",
    "\\end{aligned}\n",
    "\\end{equation}\\label{eq1}\n",
    "$$\n",
    "\n",
    "Assumindo que as funções densidade de probabilidade $f_{X,Y}(x,y)$ e $f_{Y}(y)$ são contínuas, podemos dividir o numerador\n",
    "e o denominador de (\\ref{eq1}) por $\\Delta y$ e calcular o limite de $\\Delta y\\rightarrow0$ \n",
    "\n",
    "$$\n",
    "\\begin{equation}\n",
    "\\begin{aligned}\n",
    "P\\left(X \\leqslant x | Y=y\\right) & \\equiv F\\left(x \\mid y\\right)=\\frac{\\partial F\\left(x, y\\right) / \\partial y}{d F\\left(y\\right) / d y} \\\\\n",
    "&=\\frac{\\partial\\left[\\int_{-\\infty}^{x} \\int_{-\\infty}^{y} f_{X,Y}\\left(u_{1}, u_{2}\\right) d u_{1} d u_{2}\\right] / \\partial y}{d\\left[\\int_{-\\infty}^{y} f_Y\\left(u_{2}\\right) d u_{2}\\right] / d y} \\\\\n",
    "&=\\frac{\\int_{-\\infty}^{x} f_{X,Y}\\left(u_{1}, y\\right) d u_{1}}{f_Y\\left(y\\right)}\n",
    "\\end{aligned}\n",
    "\\end{equation}\\label{eq2}\n",
    "$$\n",
    "\n",
    "Derivando (\\ref{eq2}) com relação a $x$, obtemos a fdp condicional correspondente\n",
    "\n",
    "$$\n",
    "f_{X|Y}\\left(x|y\\right)=\\frac{f_{X,Y}\\left(x, y\\right)}{f_Y\\left(y\\right)}\n",
    "$$\n",
    "\n",
    "Alternativamente, também podemos escrever:\n",
    "\n",
    "$$\n",
    "\\begin{aligned}\n",
    "f_{X,Y}\\left(x, y\\right) &= f_{X|Y}\\left(x|y\\right)f_Y\\left(y\\right)\\\\\n",
    "&= f_{Y|X}\\left(y|x\\right)f_X\\left(x\\right)\n",
    "\\end{aligned}\n",
    "$$"
   ]
  },
  {
   "cell_type": "markdown",
   "metadata": {},
   "source": [
    "### Independência estatística\n",
    "\n",
    "Um conjunto de variáveis aleatórias multidimensionais $X_{1}, \\ldots, X_{k}$ é estatisticamente independente se, e somente se, a fda e a fdp conjuntas fatoram na forma\n",
    "\n",
    "$$\n",
    "F\\left(x_{1}, x_{2}, \\ldots, x_{k}\\right)=F\\left(x_{1}\\right) F\\left(x_{2}\\right) \\cdots F\\left(x_{k}\\right)\n",
    "$$\n",
    "\n",
    "$$\n",
    "f\\left(x_{1}, x_{2}, \\ldots, x_{k}\\right)=f\\left(x_{1}\\right) f\\left(x_{2}\\right) \\cdots f\\left(x_{k}\\right)\n",
    "$$"
   ]
  },
  {
   "cell_type": "markdown",
   "metadata": {},
   "source": [
    "## Médias estatísticas"
   ]
  },
  {
   "cell_type": "code",
   "execution_count": 125,
   "metadata": {},
   "outputs": [],
   "source": [
    "import sympy as sp\n",
    "from sympy.stats import Normal, density, P, E, given, Bernoulli, Laplace, variance\n",
    "\n",
    "X, Y, μ, σ, a, b, p, n = sp.symbols('X, Y μ, σ, a, b, p, n', real=True)"
   ]
  },
  {
   "cell_type": "code",
   "execution_count": 70,
   "metadata": {},
   "outputs": [
    {
     "data": {
      "text/latex": [
       "$\\displaystyle \\frac{\\sqrt{2} e^{- \\frac{\\left(x - μ\\right)^{2}}{2 σ^{2}}}}{2 \\sqrt{\\pi} σ}$"
      ],
      "text/plain": [
       "sqrt(2)*exp(-(x - μ)**2/(2*σ**2))/(2*sqrt(pi)*σ)"
      ]
     },
     "execution_count": 70,
     "metadata": {},
     "output_type": "execute_result"
    }
   ],
   "source": [
    "X = Normal('X', μ, σ)\n",
    "\n",
    "pdf = density(X)\n",
    "pdf(x)"
   ]
  },
  {
   "cell_type": "code",
   "execution_count": 77,
   "metadata": {},
   "outputs": [
    {
     "data": {
      "text/latex": [
       "$\\displaystyle σ^{2}$"
      ],
      "text/plain": [
       "σ**2"
      ]
     },
     "execution_count": 77,
     "metadata": {},
     "output_type": "execute_result"
    }
   ],
   "source": [
    "E((X-μ)*(X-μ))"
   ]
  },
  {
   "cell_type": "code",
   "execution_count": 129,
   "metadata": {},
   "outputs": [],
   "source": [
    "X   = Bernoulli('X', p, 1, 0)"
   ]
  },
  {
   "cell_type": "code",
   "execution_count": 136,
   "metadata": {},
   "outputs": [
    {
     "data": {
      "text/latex": [
       "$\\displaystyle p \\left(1 - p\\right)$"
      ],
      "text/plain": [
       "p*(1 - p)"
      ]
     },
     "execution_count": 136,
     "metadata": {},
     "output_type": "execute_result"
    }
   ],
   "source": [
    "variance(X).simplify()"
   ]
  },
  {
   "cell_type": "code",
   "execution_count": 108,
   "metadata": {},
   "outputs": [],
   "source": [
    "X = Laplace('X', μ, b)"
   ]
  },
  {
   "cell_type": "code",
   "execution_count": 113,
   "metadata": {},
   "outputs": [
    {
     "data": {
      "text/latex": [
       "$\\displaystyle 2 b^{2}$"
      ],
      "text/plain": [
       "2*b**2"
      ]
     },
     "execution_count": 113,
     "metadata": {},
     "output_type": "execute_result"
    }
   ],
   "source": [
    "variance(X)"
   ]
  }
 ],
 "metadata": {
  "kernelspec": {
   "display_name": "Python 3",
   "language": "python",
   "name": "python3"
  },
  "language_info": {
   "codemirror_mode": {
    "name": "ipython",
    "version": 3
   },
   "file_extension": ".py",
   "mimetype": "text/x-python",
   "name": "python",
   "nbconvert_exporter": "python",
   "pygments_lexer": "ipython3",
   "version": "3.7.4"
  },
  "toc": {
   "base_numbering": 1,
   "nav_menu": {},
   "number_sections": true,
   "sideBar": true,
   "skip_h1_title": true,
   "title_cell": "Table of Contents",
   "title_sidebar": "Contents",
   "toc_cell": true,
   "toc_position": {},
   "toc_section_display": true,
   "toc_window_display": false
  },
  "varInspector": {
   "cols": {
    "lenName": 16,
    "lenType": 16,
    "lenVar": 40
   },
   "kernels_config": {
    "python": {
     "delete_cmd_postfix": "",
     "delete_cmd_prefix": "del ",
     "library": "var_list.py",
     "varRefreshCmd": "print(var_dic_list())"
    },
    "r": {
     "delete_cmd_postfix": ") ",
     "delete_cmd_prefix": "rm(",
     "library": "var_list.r",
     "varRefreshCmd": "cat(var_dic_list()) "
    }
   },
   "types_to_exclude": [
    "module",
    "function",
    "builtin_function_or_method",
    "instance",
    "_Feature"
   ],
   "window_display": false
  }
 },
 "nbformat": 4,
 "nbformat_minor": 4
}
